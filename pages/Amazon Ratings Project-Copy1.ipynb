{
 "cells": [
  {
   "cell_type": "code",
   "execution_count": 1,
   "metadata": {},
   "outputs": [
    {
     "name": "stdout",
     "output_type": "stream",
     "text": [
      "Requirement already up-to-date: category_encoders in /Users/Inceptive/.local/share/virtualenvs/amazon-ratings-dash-app-qCkU82-A/lib/python3.7/site-packages (2.0.0)\n",
      "Requirement already satisfied, skipping upgrade: patsy>=0.4.1 in /Users/Inceptive/.local/share/virtualenvs/amazon-ratings-dash-app-qCkU82-A/lib/python3.7/site-packages (from category_encoders) (0.5.1)\n",
      "Requirement already satisfied, skipping upgrade: pandas>=0.21.1 in /Users/Inceptive/.local/share/virtualenvs/amazon-ratings-dash-app-qCkU82-A/lib/python3.7/site-packages (from category_encoders) (0.25.1)\n",
      "Requirement already satisfied, skipping upgrade: scipy>=0.19.0 in /Users/Inceptive/.local/share/virtualenvs/amazon-ratings-dash-app-qCkU82-A/lib/python3.7/site-packages (from category_encoders) (1.3.1)\n",
      "Requirement already satisfied, skipping upgrade: statsmodels>=0.6.1 in /Users/Inceptive/.local/share/virtualenvs/amazon-ratings-dash-app-qCkU82-A/lib/python3.7/site-packages (from category_encoders) (0.10.1)\n",
      "Requirement already satisfied, skipping upgrade: numpy>=1.11.3 in /Users/Inceptive/.local/share/virtualenvs/amazon-ratings-dash-app-qCkU82-A/lib/python3.7/site-packages (from category_encoders) (1.17.0)\n",
      "Requirement already satisfied, skipping upgrade: scikit-learn>=0.20.0 in /Users/Inceptive/.local/share/virtualenvs/amazon-ratings-dash-app-qCkU82-A/lib/python3.7/site-packages (from category_encoders) (0.21.3)\n",
      "Requirement already satisfied, skipping upgrade: six in /Users/Inceptive/.local/share/virtualenvs/amazon-ratings-dash-app-qCkU82-A/lib/python3.7/site-packages (from patsy>=0.4.1->category_encoders) (1.12.0)\n",
      "Requirement already satisfied, skipping upgrade: pytz>=2017.2 in /Users/Inceptive/.local/share/virtualenvs/amazon-ratings-dash-app-qCkU82-A/lib/python3.7/site-packages (from pandas>=0.21.1->category_encoders) (2019.2)\n",
      "Requirement already satisfied, skipping upgrade: python-dateutil>=2.6.1 in /Users/Inceptive/.local/share/virtualenvs/amazon-ratings-dash-app-qCkU82-A/lib/python3.7/site-packages (from pandas>=0.21.1->category_encoders) (2.8.0)\n",
      "Requirement already satisfied, skipping upgrade: joblib>=0.11 in /Users/Inceptive/.local/share/virtualenvs/amazon-ratings-dash-app-qCkU82-A/lib/python3.7/site-packages (from scikit-learn>=0.20.0->category_encoders) (0.13.2)\n",
      "Note: you may need to restart the kernel to use updated packages.\n"
     ]
    }
   ],
   "source": [
    "pip install --upgrade category_encoders"
   ]
  },
  {
   "cell_type": "code",
   "execution_count": 2,
   "metadata": {},
   "outputs": [
    {
     "name": "stdout",
     "output_type": "stream",
     "text": [
      "Requirement already satisfied: xgboost in /Users/Inceptive/.local/share/virtualenvs/amazon-ratings-dash-app-qCkU82-A/lib/python3.7/site-packages (0.90)\n",
      "Requirement already satisfied: scipy in /Users/Inceptive/.local/share/virtualenvs/amazon-ratings-dash-app-qCkU82-A/lib/python3.7/site-packages (from xgboost) (1.3.1)\n",
      "Requirement already satisfied: numpy in /Users/Inceptive/.local/share/virtualenvs/amazon-ratings-dash-app-qCkU82-A/lib/python3.7/site-packages (from xgboost) (1.17.0)\n",
      "Note: you may need to restart the kernel to use updated packages.\n"
     ]
    }
   ],
   "source": [
    "pip install xgboost"
   ]
  },
  {
   "cell_type": "code",
   "execution_count": 3,
   "metadata": {},
   "outputs": [
    {
     "name": "stdout",
     "output_type": "stream",
     "text": [
      "Requirement already satisfied: plotly in /Users/Inceptive/.local/share/virtualenvs/amazon-ratings-dash-app-qCkU82-A/lib/python3.7/site-packages (4.1.0)\n",
      "Requirement already satisfied: retrying>=1.3.3 in /Users/Inceptive/.local/share/virtualenvs/amazon-ratings-dash-app-qCkU82-A/lib/python3.7/site-packages (from plotly) (1.3.3)\n",
      "Requirement already satisfied: six in /Users/Inceptive/.local/share/virtualenvs/amazon-ratings-dash-app-qCkU82-A/lib/python3.7/site-packages (from plotly) (1.12.0)\n",
      "Note: you may need to restart the kernel to use updated packages.\n"
     ]
    }
   ],
   "source": [
    "pip install plotly "
   ]
  },
  {
   "cell_type": "code",
   "execution_count": 4,
   "metadata": {},
   "outputs": [
    {
     "name": "stdout",
     "output_type": "stream",
     "text": [
      "Requirement already satisfied: joblib in /Users/Inceptive/.local/share/virtualenvs/amazon-ratings-dash-app-qCkU82-A/lib/python3.7/site-packages (0.13.2)\n",
      "Note: you may need to restart the kernel to use updated packages.\n"
     ]
    }
   ],
   "source": [
    "pip install joblib"
   ]
  },
  {
   "cell_type": "code",
   "execution_count": 5,
   "metadata": {},
   "outputs": [],
   "source": [
    "# Various Imports\n",
    "\n",
    "import pandas as pd\n",
    "import numpy as np\n",
    "#import matplotlib.pyplot as plt\n",
    "#import seaborn as sns\n",
    "import category_encoders as ce\n",
    "from sklearn.pipeline import make_pipeline\n",
    "from sklearn.impute import SimpleImputer\n",
    "from sklearn.preprocessing import StandardScaler\n",
    "from sklearn.metrics import accuracy_score\n",
    "from sklearn.linear_model import LinearRegression\n",
    "from sklearn.metrics import r2_score\n",
    "from xgboost import XGBRegressor\n",
    "from xgboost import XGBClassifier\n",
    "from sklearn.model_selection import train_test_split\n",
    "from sklearn.linear_model import LogisticRegression\n",
    "from sklearn.tree import DecisionTreeRegressor\n",
    "from sklearn.tree import DecisionTreeClassifier\n",
    "from sklearn.metrics import mean_absolute_error\n",
    "import plotly.express as px"
   ]
  },
  {
   "cell_type": "code",
   "execution_count": 6,
   "metadata": {},
   "outputs": [
    {
     "data": {
      "text/html": [
       "<div>\n",
       "<style scoped>\n",
       "    .dataframe tbody tr th:only-of-type {\n",
       "        vertical-align: middle;\n",
       "    }\n",
       "\n",
       "    .dataframe tbody tr th {\n",
       "        vertical-align: top;\n",
       "    }\n",
       "\n",
       "    .dataframe thead th {\n",
       "        text-align: right;\n",
       "    }\n",
       "</style>\n",
       "<table border=\"1\" class=\"dataframe\">\n",
       "  <thead>\n",
       "    <tr style=\"text-align: right;\">\n",
       "      <th></th>\n",
       "      <th>uniq_id</th>\n",
       "      <th>product_name</th>\n",
       "      <th>manufacturer</th>\n",
       "      <th>price</th>\n",
       "      <th>number_available_in_stock</th>\n",
       "      <th>number_of_reviews</th>\n",
       "      <th>number_of_answered_questions</th>\n",
       "      <th>average_review_rating</th>\n",
       "      <th>amazon_category_and_sub_category</th>\n",
       "      <th>customers_who_bought_this_item_also_bought</th>\n",
       "      <th>description</th>\n",
       "      <th>product_information</th>\n",
       "      <th>product_description</th>\n",
       "      <th>items_customers_buy_after_viewing_this_item</th>\n",
       "      <th>customer_questions_and_answers</th>\n",
       "      <th>customer_reviews</th>\n",
       "      <th>sellers</th>\n",
       "    </tr>\n",
       "  </thead>\n",
       "  <tbody>\n",
       "    <tr>\n",
       "      <td>0</td>\n",
       "      <td>eac7efa5dbd3d667f26eb3d3ab504464</td>\n",
       "      <td>Hornby 2014 Catalogue</td>\n",
       "      <td>Hornby</td>\n",
       "      <td>£3.42</td>\n",
       "      <td>5 new</td>\n",
       "      <td>15</td>\n",
       "      <td>1.0</td>\n",
       "      <td>4.9 out of 5 stars</td>\n",
       "      <td>Hobbies &gt; Model Trains &amp; Railway Sets &gt; Rail V...</td>\n",
       "      <td>http://www.amazon.co.uk/Hornby-R8150-Catalogue...</td>\n",
       "      <td>Product Description Hornby 2014 Catalogue Box ...</td>\n",
       "      <td>Technical Details Item Weight640 g Product Dim...</td>\n",
       "      <td>Product Description Hornby 2014 Catalogue Box ...</td>\n",
       "      <td>http://www.amazon.co.uk/Hornby-R8150-Catalogue...</td>\n",
       "      <td>Does this catalogue detail all the previous Ho...</td>\n",
       "      <td>Worth Buying For The Pictures Alone (As Ever) ...</td>\n",
       "      <td>{\"seller\"=&gt;[{\"Seller_name_1\"=&gt;\"Amazon.co.uk\", ...</td>\n",
       "    </tr>\n",
       "    <tr>\n",
       "      <td>1</td>\n",
       "      <td>b17540ef7e86e461d37f3ae58b7b72ac</td>\n",
       "      <td>FunkyBuys® Large Christmas Holiday Express Fes...</td>\n",
       "      <td>FunkyBuys</td>\n",
       "      <td>£16.99</td>\n",
       "      <td>NaN</td>\n",
       "      <td>2</td>\n",
       "      <td>1.0</td>\n",
       "      <td>4.5 out of 5 stars</td>\n",
       "      <td>Hobbies &gt; Model Trains &amp; Railway Sets &gt; Rail V...</td>\n",
       "      <td>http://www.amazon.co.uk/Christmas-Holiday-Expr...</td>\n",
       "      <td>Size Name:Large FunkyBuys® Large Christmas Hol...</td>\n",
       "      <td>Technical Details Manufacturer recommended age...</td>\n",
       "      <td>Size Name:Large FunkyBuys® Large Christmas Hol...</td>\n",
       "      <td>http://www.amazon.co.uk/Christmas-Holiday-Expr...</td>\n",
       "      <td>can you turn off sounds // hi no you cant turn...</td>\n",
       "      <td>Four Stars // 4.0 // 18 Dec. 2015 // By\\n    \\...</td>\n",
       "      <td>{\"seller\"=&gt;{\"Seller_name_1\"=&gt;\"UHD WHOLESALE\", ...</td>\n",
       "    </tr>\n",
       "    <tr>\n",
       "      <td>2</td>\n",
       "      <td>348f344247b0c1a935b1223072ef9d8a</td>\n",
       "      <td>CLASSIC TOY TRAIN SET TRACK CARRIAGES LIGHT EN...</td>\n",
       "      <td>ccf</td>\n",
       "      <td>£9.99</td>\n",
       "      <td>2 new</td>\n",
       "      <td>17</td>\n",
       "      <td>2.0</td>\n",
       "      <td>3.9 out of 5 stars</td>\n",
       "      <td>Hobbies &gt; Model Trains &amp; Railway Sets &gt; Rail V...</td>\n",
       "      <td>http://www.amazon.co.uk/Classic-Train-Lights-B...</td>\n",
       "      <td>BIG CLASSIC TOY TRAIN SET TRACK CARRIAGE LIGHT...</td>\n",
       "      <td>Technical Details Manufacturer recommended age...</td>\n",
       "      <td>BIG CLASSIC TOY TRAIN SET TRACK CARRIAGE LIGHT...</td>\n",
       "      <td>http://www.amazon.co.uk/Train-With-Tracks-Batt...</td>\n",
       "      <td>What is the gauge of the track // Hi Paul.Trut...</td>\n",
       "      <td>**Highly Recommended!** // 5.0 // 26 May 2015 ...</td>\n",
       "      <td>{\"seller\"=&gt;[{\"Seller_name_1\"=&gt;\"DEAL-BOX\", \"Sel...</td>\n",
       "    </tr>\n",
       "    <tr>\n",
       "      <td>3</td>\n",
       "      <td>e12b92dbb8eaee78b22965d2a9bbbd9f</td>\n",
       "      <td>HORNBY Coach R4410A BR Hawksworth Corridor 3rd</td>\n",
       "      <td>Hornby</td>\n",
       "      <td>£39.99</td>\n",
       "      <td>NaN</td>\n",
       "      <td>1</td>\n",
       "      <td>2.0</td>\n",
       "      <td>5.0 out of 5 stars</td>\n",
       "      <td>Hobbies &gt; Model Trains &amp; Railway Sets &gt; Rail V...</td>\n",
       "      <td>NaN</td>\n",
       "      <td>Hornby 00 Gauge BR Hawksworth 3rd Class W 2107...</td>\n",
       "      <td>Technical Details Item Weight259 g Product Dim...</td>\n",
       "      <td>Hornby 00 Gauge BR Hawksworth 3rd Class W 2107...</td>\n",
       "      <td>NaN</td>\n",
       "      <td>NaN</td>\n",
       "      <td>I love it // 5.0 // 22 July 2013 // By\\n    \\n...</td>\n",
       "      <td>NaN</td>\n",
       "    </tr>\n",
       "    <tr>\n",
       "      <td>4</td>\n",
       "      <td>e33a9adeed5f36840ccc227db4682a36</td>\n",
       "      <td>Hornby 00 Gauge 0-4-0 Gildenlow Salt Co. Steam...</td>\n",
       "      <td>Hornby</td>\n",
       "      <td>£32.19</td>\n",
       "      <td>NaN</td>\n",
       "      <td>3</td>\n",
       "      <td>2.0</td>\n",
       "      <td>4.7 out of 5 stars</td>\n",
       "      <td>Hobbies &gt; Model Trains &amp; Railway Sets &gt; Rail V...</td>\n",
       "      <td>http://www.amazon.co.uk/Hornby-R6367-RailRoad-...</td>\n",
       "      <td>Product Description Hornby RailRoad 0-4-0 Gild...</td>\n",
       "      <td>Technical Details Item Weight159 g Product Dim...</td>\n",
       "      <td>Product Description Hornby RailRoad 0-4-0 Gild...</td>\n",
       "      <td>http://www.amazon.co.uk/Hornby-R2672-RailRoad-...</td>\n",
       "      <td>NaN</td>\n",
       "      <td>Birthday present // 5.0 // 14 April 2014 // By...</td>\n",
       "      <td>NaN</td>\n",
       "    </tr>\n",
       "  </tbody>\n",
       "</table>\n",
       "</div>"
      ],
      "text/plain": [
       "                            uniq_id  \\\n",
       "0  eac7efa5dbd3d667f26eb3d3ab504464   \n",
       "1  b17540ef7e86e461d37f3ae58b7b72ac   \n",
       "2  348f344247b0c1a935b1223072ef9d8a   \n",
       "3  e12b92dbb8eaee78b22965d2a9bbbd9f   \n",
       "4  e33a9adeed5f36840ccc227db4682a36   \n",
       "\n",
       "                                        product_name manufacturer   price  \\\n",
       "0                              Hornby 2014 Catalogue       Hornby   £3.42   \n",
       "1  FunkyBuys® Large Christmas Holiday Express Fes...    FunkyBuys  £16.99   \n",
       "2  CLASSIC TOY TRAIN SET TRACK CARRIAGES LIGHT EN...          ccf   £9.99   \n",
       "3     HORNBY Coach R4410A BR Hawksworth Corridor 3rd       Hornby  £39.99   \n",
       "4  Hornby 00 Gauge 0-4-0 Gildenlow Salt Co. Steam...       Hornby  £32.19   \n",
       "\n",
       "  number_available_in_stock number_of_reviews  number_of_answered_questions  \\\n",
       "0                     5 new                15                           1.0   \n",
       "1                       NaN                 2                           1.0   \n",
       "2                     2 new                17                           2.0   \n",
       "3                       NaN                 1                           2.0   \n",
       "4                       NaN                 3                           2.0   \n",
       "\n",
       "  average_review_rating                   amazon_category_and_sub_category  \\\n",
       "0    4.9 out of 5 stars  Hobbies > Model Trains & Railway Sets > Rail V...   \n",
       "1    4.5 out of 5 stars  Hobbies > Model Trains & Railway Sets > Rail V...   \n",
       "2    3.9 out of 5 stars  Hobbies > Model Trains & Railway Sets > Rail V...   \n",
       "3    5.0 out of 5 stars  Hobbies > Model Trains & Railway Sets > Rail V...   \n",
       "4    4.7 out of 5 stars  Hobbies > Model Trains & Railway Sets > Rail V...   \n",
       "\n",
       "          customers_who_bought_this_item_also_bought  \\\n",
       "0  http://www.amazon.co.uk/Hornby-R8150-Catalogue...   \n",
       "1  http://www.amazon.co.uk/Christmas-Holiday-Expr...   \n",
       "2  http://www.amazon.co.uk/Classic-Train-Lights-B...   \n",
       "3                                                NaN   \n",
       "4  http://www.amazon.co.uk/Hornby-R6367-RailRoad-...   \n",
       "\n",
       "                                         description  \\\n",
       "0  Product Description Hornby 2014 Catalogue Box ...   \n",
       "1  Size Name:Large FunkyBuys® Large Christmas Hol...   \n",
       "2  BIG CLASSIC TOY TRAIN SET TRACK CARRIAGE LIGHT...   \n",
       "3  Hornby 00 Gauge BR Hawksworth 3rd Class W 2107...   \n",
       "4  Product Description Hornby RailRoad 0-4-0 Gild...   \n",
       "\n",
       "                                 product_information  \\\n",
       "0  Technical Details Item Weight640 g Product Dim...   \n",
       "1  Technical Details Manufacturer recommended age...   \n",
       "2  Technical Details Manufacturer recommended age...   \n",
       "3  Technical Details Item Weight259 g Product Dim...   \n",
       "4  Technical Details Item Weight159 g Product Dim...   \n",
       "\n",
       "                                 product_description  \\\n",
       "0  Product Description Hornby 2014 Catalogue Box ...   \n",
       "1  Size Name:Large FunkyBuys® Large Christmas Hol...   \n",
       "2  BIG CLASSIC TOY TRAIN SET TRACK CARRIAGE LIGHT...   \n",
       "3  Hornby 00 Gauge BR Hawksworth 3rd Class W 2107...   \n",
       "4  Product Description Hornby RailRoad 0-4-0 Gild...   \n",
       "\n",
       "         items_customers_buy_after_viewing_this_item  \\\n",
       "0  http://www.amazon.co.uk/Hornby-R8150-Catalogue...   \n",
       "1  http://www.amazon.co.uk/Christmas-Holiday-Expr...   \n",
       "2  http://www.amazon.co.uk/Train-With-Tracks-Batt...   \n",
       "3                                                NaN   \n",
       "4  http://www.amazon.co.uk/Hornby-R2672-RailRoad-...   \n",
       "\n",
       "                      customer_questions_and_answers  \\\n",
       "0  Does this catalogue detail all the previous Ho...   \n",
       "1  can you turn off sounds // hi no you cant turn...   \n",
       "2  What is the gauge of the track // Hi Paul.Trut...   \n",
       "3                                                NaN   \n",
       "4                                                NaN   \n",
       "\n",
       "                                    customer_reviews  \\\n",
       "0  Worth Buying For The Pictures Alone (As Ever) ...   \n",
       "1  Four Stars // 4.0 // 18 Dec. 2015 // By\\n    \\...   \n",
       "2  **Highly Recommended!** // 5.0 // 26 May 2015 ...   \n",
       "3  I love it // 5.0 // 22 July 2013 // By\\n    \\n...   \n",
       "4  Birthday present // 5.0 // 14 April 2014 // By...   \n",
       "\n",
       "                                             sellers  \n",
       "0  {\"seller\"=>[{\"Seller_name_1\"=>\"Amazon.co.uk\", ...  \n",
       "1  {\"seller\"=>{\"Seller_name_1\"=>\"UHD WHOLESALE\", ...  \n",
       "2  {\"seller\"=>[{\"Seller_name_1\"=>\"DEAL-BOX\", \"Sel...  \n",
       "3                                                NaN  \n",
       "4                                                NaN  "
      ]
     },
     "execution_count": 6,
     "metadata": {},
     "output_type": "execute_result"
    }
   ],
   "source": [
    "# bringing in THE dataset\n",
    "\n",
    "df = pd.read_csv('https://query.data.world/s/dh4qojydat5rryqzot3q4x3osoj6dc')\n",
    "df.head()"
   ]
  },
  {
   "cell_type": "code",
   "execution_count": 7,
   "metadata": {},
   "outputs": [
    {
     "data": {
      "text/plain": [
       "5.0 out of 5 stars    0.514927\n",
       "4.0 out of 5 stars    0.131437\n",
       "4.5 out of 5 stars    0.071929\n",
       "4.8 out of 5 stars    0.056802\n",
       "4.7 out of 5 stars    0.052895\n",
       "4.3 out of 5 stars    0.040773\n",
       "4.6 out of 5 stars    0.039271\n",
       "4.4 out of 5 stars    0.029854\n",
       "4.9 out of 5 stars    0.023743\n",
       "4.2 out of 5 stars    0.021739\n",
       "4.1 out of 5 stars    0.014526\n",
       "3.9 out of 5 stars    0.000701\n",
       "3.6 out of 5 stars    0.000301\n",
       "3.0 out of 5 stars    0.000301\n",
       "3.3 out of 5 stars    0.000200\n",
       "3.7 out of 5 stars    0.000200\n",
       "3.5 out of 5 stars    0.000200\n",
       "2.3 out of 5 stars    0.000100\n",
       "3.8 out of 5 stars    0.000100\n",
       "Name: average_review_rating, dtype: float64"
      ]
     },
     "execution_count": 7,
     "metadata": {},
     "output_type": "execute_result"
    }
   ],
   "source": [
    "# Baseline\n",
    "df['average_review_rating'].value_counts(normalize=True)"
   ]
  },
  {
   "cell_type": "code",
   "execution_count": 8,
   "metadata": {},
   "outputs": [],
   "source": [
    "# Some Wrangling and Cleaning, still much more to do though\n",
    "\n",
    "# removing the Euros symbol to later convert it to floats\n",
    "df['price'] = df['price'].str[1:]\n",
    "\n",
    "# removing the string after the number of availalble stock to convert to an interger later\n",
    "df['number_available_in_stock'] = df['number_available_in_stock'].str.extract('(\\d+)')\n",
    "df['number_available_in_stock'] = df['number_available_in_stock'].fillna(6).astype(int)\n",
    "\n",
    "# removing the unneccessary clutter around the rating so that I can later convert to float\n",
    "df['average_review_rating'] = df['average_review_rating'].str.extract('(\\d+(?:\\.\\d+)?)')\n",
    "\n",
    "# removing the URL to the new product, will continue to clean and get it just down to the item\n",
    "df['customers_who_bought_this_item_also_bought'] = df['customers_who_bought_this_item_also_bought'].str[24:]\n",
    "df['items_customers_buy_after_viewing_this_item'] = df['items_customers_buy_after_viewing_this_item'].str[24:]\n",
    "\n",
    "# rather than have category>subcategory>subsubcategory in one column, I gave each their own column\n",
    "df['category'] = df['amazon_category_and_sub_category'].str.split('>').str[0].tolist()\n",
    "df['sub_category'] = df['amazon_category_and_sub_category'].str.split('>').str[1].tolist()\n",
    "df['sub_sub_category'] = df['amazon_category_and_sub_category'].str.split('>').str[2].tolist()\n",
    "df['sub_sub_sub_category'] = df['amazon_category_and_sub_category'].str.split('>').str[3].tolist()\n",
    "\n",
    "# fixing commas in strings in number of reviews and then converting column to floats\n",
    "df['number_of_reviews'] = df['number_of_reviews'].replace('1,040','1040')\n",
    "df['number_of_reviews'] = df['number_of_reviews'].replace('1,399','1399')\n",
    "df['number_of_reviews'] = df['number_of_reviews'].fillna(0.0).astype(int)\n",
    "\n",
    "# converting Average review rating to floats \n",
    "df['average_review_rating'] = df['average_review_rating'].astype(float)\n",
    "#df['average_review_rating'] = df['average_review_rating'].fillna(4.5, inplace=False)\n",
    "\n",
    "\n",
    "# fixing strings in price column so they can be converted to floats\n",
    "df['price'] = df['price'].str.split(' - £').str[0].tolist()\n",
    "df['upper_range_price'] = df['price'].str.split(' - £').str[1].tolist()\n",
    "df['price'] = df['price'].replace('2,439.92', '2439.92')\n",
    "df['price'] = df['price'].astype(float)\n",
    "\n",
    "# changing nans in the column to the mean of the column\n",
    "df['price'] = df['price'].fillna(20.2781097489784, inplace=False)\n",
    "df['number_of_answered_questions'] = df['number_of_answered_questions'].fillna(2, inplace=False)\n",
    "\n",
    "# Changing Description to 1 or 0 for if one is present\n",
    "df['description'] = df['description'].fillna(value=0)\n",
    "df['new_description'] = [0 if x is 0 else 1 for x in df['description']]\n",
    "\n",
    "# Changing customer Reviews to 1 or 0 for if one is present\n",
    "df['customer_reviews'] = df['customer_reviews'].fillna(value=0)\n",
    "df['new_customer_reviews'] = [0 if x is 0 else 1 for x in df['customer_reviews']]\n",
    "\n",
    "# Changing customer Q&A to 1 or 0 for if one is present\n",
    "df['customer_questions_and_answers'] = df['customer_questions_and_answers'].fillna(value=0)\n",
    "df['new_customer_questions_and_answers'] = [0 if x is 0 else 1 for x in df['customer_questions_and_answers']]\n",
    "\n",
    "# Changing  product info to 1 or 0 for if one is present\n",
    "df['product_information'] = df['product_information'].fillna(value=0)\n",
    "df['new_product_information'] = [0 if x is 0 else 1 for x in df['product_information']]\n",
    "\n",
    "# Changing Product Description to 1 or 0 for if one is present\n",
    "df['product_description'] = df['product_description'].fillna(value=0)\n",
    "#df['new_product_description'] = [0 if x is 0 else 1 for x in df['product_description']]\n",
    "\n",
    "# unusable variance \n",
    "unusable_variance = ['uniq_id',\n",
    "                     'amazon_category_and_sub_category', \n",
    "                     'customers_who_bought_this_item_also_bought', \n",
    "                     'description',\n",
    "                     'product_information', \n",
    "                     'product_description', \n",
    "                     'items_customers_buy_after_viewing_this_item', \n",
    "                     'customer_questions_and_answers',\n",
    "                     'customer_reviews', \n",
    "                     'sellers', \n",
    "                     'upper_range_price',]\n",
    "df = df.drop(columns=unusable_variance)\n",
    "\n",
    "\n",
    "# dropping some categoricals for the sake of a linear model, will reuse these at later point\n",
    "unusable_categoricals = ['product_name',\n",
    "                        # 'manufacturer', \n",
    "                         #'category',\n",
    "                         #'sub_category', \n",
    "                         'sub_sub_category', \n",
    "                         'sub_sub_sub_category'\n",
    "                        ]\n",
    "\n",
    "df = df.drop(columns=unusable_categoricals)\n"
   ]
  },
  {
   "cell_type": "code",
   "execution_count": 9,
   "metadata": {},
   "outputs": [
    {
     "name": "stdout",
     "output_type": "stream",
     "text": [
      "(9982, 9)\n"
     ]
    },
    {
     "data": {
      "text/html": [
       "<div>\n",
       "<style scoped>\n",
       "    .dataframe tbody tr th:only-of-type {\n",
       "        vertical-align: middle;\n",
       "    }\n",
       "\n",
       "    .dataframe tbody tr th {\n",
       "        vertical-align: top;\n",
       "    }\n",
       "\n",
       "    .dataframe thead th {\n",
       "        text-align: right;\n",
       "    }\n",
       "</style>\n",
       "<table border=\"1\" class=\"dataframe\">\n",
       "  <thead>\n",
       "    <tr style=\"text-align: right;\">\n",
       "      <th></th>\n",
       "      <th>price</th>\n",
       "      <th>number_available_in_stock</th>\n",
       "      <th>number_of_reviews</th>\n",
       "      <th>number_of_answered_questions</th>\n",
       "      <th>average_review_rating</th>\n",
       "      <th>new_description</th>\n",
       "      <th>new_customer_reviews</th>\n",
       "      <th>new_customer_questions_and_answers</th>\n",
       "      <th>new_product_information</th>\n",
       "    </tr>\n",
       "  </thead>\n",
       "  <tbody>\n",
       "    <tr>\n",
       "      <td>0</td>\n",
       "      <td>3.42</td>\n",
       "      <td>5</td>\n",
       "      <td>15</td>\n",
       "      <td>1.0</td>\n",
       "      <td>4.9</td>\n",
       "      <td>1</td>\n",
       "      <td>1</td>\n",
       "      <td>1</td>\n",
       "      <td>1</td>\n",
       "    </tr>\n",
       "    <tr>\n",
       "      <td>1</td>\n",
       "      <td>16.99</td>\n",
       "      <td>6</td>\n",
       "      <td>2</td>\n",
       "      <td>1.0</td>\n",
       "      <td>4.5</td>\n",
       "      <td>1</td>\n",
       "      <td>1</td>\n",
       "      <td>1</td>\n",
       "      <td>1</td>\n",
       "    </tr>\n",
       "    <tr>\n",
       "      <td>2</td>\n",
       "      <td>9.99</td>\n",
       "      <td>2</td>\n",
       "      <td>17</td>\n",
       "      <td>2.0</td>\n",
       "      <td>3.9</td>\n",
       "      <td>1</td>\n",
       "      <td>1</td>\n",
       "      <td>1</td>\n",
       "      <td>1</td>\n",
       "    </tr>\n",
       "    <tr>\n",
       "      <td>3</td>\n",
       "      <td>39.99</td>\n",
       "      <td>6</td>\n",
       "      <td>1</td>\n",
       "      <td>2.0</td>\n",
       "      <td>5.0</td>\n",
       "      <td>1</td>\n",
       "      <td>1</td>\n",
       "      <td>0</td>\n",
       "      <td>1</td>\n",
       "    </tr>\n",
       "    <tr>\n",
       "      <td>4</td>\n",
       "      <td>32.19</td>\n",
       "      <td>6</td>\n",
       "      <td>3</td>\n",
       "      <td>2.0</td>\n",
       "      <td>4.7</td>\n",
       "      <td>1</td>\n",
       "      <td>1</td>\n",
       "      <td>0</td>\n",
       "      <td>1</td>\n",
       "    </tr>\n",
       "  </tbody>\n",
       "</table>\n",
       "</div>"
      ],
      "text/plain": [
       "   price  number_available_in_stock  number_of_reviews  \\\n",
       "0   3.42                          5                 15   \n",
       "1  16.99                          6                  2   \n",
       "2   9.99                          2                 17   \n",
       "3  39.99                          6                  1   \n",
       "4  32.19                          6                  3   \n",
       "\n",
       "   number_of_answered_questions  average_review_rating  new_description  \\\n",
       "0                           1.0                    4.9                1   \n",
       "1                           1.0                    4.5                1   \n",
       "2                           2.0                    3.9                1   \n",
       "3                           2.0                    5.0                1   \n",
       "4                           2.0                    4.7                1   \n",
       "\n",
       "   new_customer_reviews  new_customer_questions_and_answers  \\\n",
       "0                     1                                   1   \n",
       "1                     1                                   1   \n",
       "2                     1                                   1   \n",
       "3                     1                                   0   \n",
       "4                     1                                   0   \n",
       "\n",
       "   new_product_information  \n",
       "0                        1  \n",
       "1                        1  \n",
       "2                        1  \n",
       "3                        1  \n",
       "4                        1  "
      ]
     },
     "execution_count": 9,
     "metadata": {},
     "output_type": "execute_result"
    }
   ],
   "source": [
    "df = df.dropna()\n",
    "print(df.shape)\n",
    "df.head()"
   ]
  },
  {
   "cell_type": "code",
   "execution_count": 10,
   "metadata": {},
   "outputs": [
    {
     "data": {
      "text/plain": [
       "price                                 float64\n",
       "number_available_in_stock               int64\n",
       "number_of_reviews                       int64\n",
       "number_of_answered_questions          float64\n",
       "average_review_rating                 float64\n",
       "new_description                         int64\n",
       "new_customer_reviews                    int64\n",
       "new_customer_questions_and_answers      int64\n",
       "new_product_information                 int64\n",
       "dtype: object"
      ]
     },
     "execution_count": 10,
     "metadata": {},
     "output_type": "execute_result"
    }
   ],
   "source": [
    "df.dtypes"
   ]
  },
  {
   "cell_type": "code",
   "execution_count": 11,
   "metadata": {},
   "outputs": [
    {
     "name": "stdout",
     "output_type": "stream",
     "text": [
      "(9982, 9)\n"
     ]
    },
    {
     "data": {
      "text/plain": [
       "price                                 0\n",
       "number_available_in_stock             0\n",
       "number_of_reviews                     0\n",
       "number_of_answered_questions          0\n",
       "average_review_rating                 0\n",
       "new_description                       0\n",
       "new_customer_reviews                  0\n",
       "new_customer_questions_and_answers    0\n",
       "new_product_information               0\n",
       "dtype: int64"
      ]
     },
     "execution_count": 11,
     "metadata": {},
     "output_type": "execute_result"
    }
   ],
   "source": [
    "# print the shape and checking nulls\n",
    "print(df.shape)\n",
    "df.isnull().sum(axis=0)"
   ]
  },
  {
   "cell_type": "code",
   "execution_count": 12,
   "metadata": {},
   "outputs": [],
   "source": [
    "# now making train/val/test split\n",
    "\n",
    "\n",
    "\n",
    "#train, val = train_test_split(df, train_size=.8, test_size = .2, \n",
    " #                             random_state=69)"
   ]
  },
  {
   "cell_type": "code",
   "execution_count": 13,
   "metadata": {},
   "outputs": [],
   "source": [
    "# Assigning X feature matrices and y target vectors\n",
    "\n",
    "# assigning the target\n",
    "target = 'average_review_rating'\n",
    "\n",
    "X_train = df.drop(columns=target)\n",
    "y_train = df[target]\n",
    "\n",
    "#X_val = val.drop(columns=target)\n",
    "#y_val = val[target]"
   ]
  },
  {
   "cell_type": "code",
   "execution_count": 14,
   "metadata": {},
   "outputs": [
    {
     "name": "stdout",
     "output_type": "stream",
     "text": [
      "[12:10:27] WARNING: src/objective/regression_obj.cu:152: reg:linear is now deprecated in favor of reg:squarederror.\n"
     ]
    },
    {
     "name": "stderr",
     "output_type": "stream",
     "text": [
      "/Users/Inceptive/.local/share/virtualenvs/amazon-ratings-dash-app-qCkU82-A/lib/python3.7/site-packages/xgboost/core.py:587: FutureWarning:\n",
      "\n",
      "Series.base is deprecated and will be removed in a future version\n",
      "\n",
      "/Users/Inceptive/.local/share/virtualenvs/amazon-ratings-dash-app-qCkU82-A/lib/python3.7/site-packages/xgboost/core.py:588: FutureWarning:\n",
      "\n",
      "Series.base is deprecated and will be removed in a future version\n",
      "\n"
     ]
    },
    {
     "name": "stdout",
     "output_type": "stream",
     "text": [
      "Mean Absolute Error:  0.27910598967171363\n"
     ]
    }
   ],
   "source": [
    "pipeline = make_pipeline(\n",
    "        ce.OneHotEncoder(),\n",
    "        SimpleImputer(),\n",
    "        StandardScaler(),\n",
    "        LinearRegression()\n",
    "\n",
    ")\n",
    "\n",
    "pipeline.fit(X_train, y_train)\n",
    "\n",
    "y_pred = pipeline.predict(X_train)\n",
    "print('Mean Absolute Error: ', mean_absolute_error(y_train, y_pred))"
   ]
  },
  {
   "cell_type": "code",
   "execution_count": 15,
   "metadata": {},
   "outputs": [
    {
     "data": {
      "text/plain": [
       "4.5224605"
      ]
     },
     "execution_count": 15,
     "metadata": {},
     "output_type": "execute_result"
    }
   ],
   "source": [
    "def predict(price, number_available_in_stock, number_of_reviews, number_of_answered_questions,\n",
    "           new_description, new_customer_reviews, new_customer_questions_and_answers,\n",
    "           new_product_information):\n",
    " \n",
    "  \n",
    "    y_pred = pipeline.predict([[price, number_available_in_stock, number_of_reviews, number_of_answered_questions,\n",
    "           new_description, new_customer_reviews, new_customer_questions_and_answers,\n",
    "           new_product_information]])\n",
    "  \n",
    "    estimate = y_pred[0]\n",
    "  \n",
    "  \n",
    "    return estimate\n",
    "\n",
    "predict(16.99, 3, 20, 1.0, 1,0,1,1)"
   ]
  },
  {
   "cell_type": "code",
   "execution_count": 16,
   "metadata": {},
   "outputs": [
    {
     "data": {
      "application/vnd.jupyter.widget-view+json": {
       "model_id": "744ea45d46074dbc8790499ad18a793d",
       "version_major": 2,
       "version_minor": 0
      },
      "text/plain": [
       "interactive(children=(IntSlider(value=125, description='price', max=250), IntSlider(value=47, description='num…"
      ]
     },
     "metadata": {},
     "output_type": "display_data"
    },
    {
     "data": {
      "text/plain": [
       "<function __main__.predict(price, number_available_in_stock, number_of_reviews, number_of_answered_questions, new_description, new_customer_reviews, new_customer_questions_and_answers, new_product_information)>"
      ]
     },
     "execution_count": 16,
     "metadata": {},
     "output_type": "execute_result"
    }
   ],
   "source": [
    "from ipywidgets import interact \n",
    "interact(predict, price = (0,250), \n",
    "         number_available_in_stock = (0,95),\n",
    "         number_of_reviews = (0,1400), \n",
    "         number_of_answered_questions = (0,40),\n",
    "         new_description = (0,1), \n",
    "         new_customer_reviews = (0,1),\n",
    "         new_customer_questions_and_answers = (0,1),\n",
    "         new_product_information = (0,1))"
   ]
  },
  {
   "cell_type": "code",
   "execution_count": 17,
   "metadata": {},
   "outputs": [
    {
     "data": {
      "text/plain": [
       "['pipeline.joblib']"
      ]
     },
     "execution_count": 17,
     "metadata": {},
     "output_type": "execute_result"
    }
   ],
   "source": [
    "from joblib import dump\n",
    "dump(pipeline, 'pipeline.joblib') "
   ]
  },
  {
   "cell_type": "code",
   "execution_count": null,
   "metadata": {},
   "outputs": [],
   "source": []
  },
  {
   "cell_type": "code",
   "execution_count": null,
   "metadata": {},
   "outputs": [],
   "source": []
  }
 ],
 "metadata": {
  "kernelspec": {
   "display_name": "Python 3",
   "language": "python",
   "name": "python3"
  },
  "language_info": {
   "codemirror_mode": {
    "name": "ipython",
    "version": 3
   },
   "file_extension": ".py",
   "mimetype": "text/x-python",
   "name": "python",
   "nbconvert_exporter": "python",
   "pygments_lexer": "ipython3",
   "version": "3.7.3"
  }
 },
 "nbformat": 4,
 "nbformat_minor": 2
}
